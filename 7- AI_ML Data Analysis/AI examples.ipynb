{
 "cells": [
  {
   "cell_type": "code",
   "execution_count": 3,
   "id": "e2635217-2a67-4b28-a807-6f11824cc1b1",
   "metadata": {},
   "outputs": [
    {
     "name": "stdout",
     "output_type": "stream",
     "text": [
      "PUUID: b-zNFgYAT2sxjwn6483-dpbjI_hIcwKmEiTnZPv4UMaOlg-EzeCuXUJLC-AFXSfExhq_mx-dVqHnWg\n"
     ]
    }
   ],
   "source": [
    "import requests\n",
    "\n",
    "def get_puuid(game_name, tag_line, routing_value):\n",
    "    api_key = 'RGAPI-b4cb2319-df6b-44a5-bee6-f47b5930ed93'  # Replace 'your_api_key_here' with your actual API key\n",
    "    url = f'https://americas.api.riotgames.com/riot/account/v1/accounts/by-riot-id/{game_name}/{tag_line}?api_key={api_key}'\n",
    "    \n",
    "    try:\n",
    "        response = requests.get(url)\n",
    "        if response.status_code == 200:\n",
    "            data = response.json()\n",
    "            puuid = data['puuid']\n",
    "            return puuid\n",
    "        else:\n",
    "            print(f\"Error: {response.status_code} - {response.text}\")\n",
    "            return None\n",
    "    except Exception as e:\n",
    "        print(f\"An error occurred: {e}\")\n",
    "        return None\n",
    "\n",
    "# Example usage:\n",
    "game_name = 'RebirthNA'\n",
    "tag_line = 'NA1'\n",
    "routing_value = 'americas'\n",
    "puuid = get_puuid(game_name, tag_line, routing_value)\n",
    "print('PUUID:', puuid)\n"
   ]
  },
  {
   "cell_type": "code",
   "execution_count": 4,
   "id": "b2db6d17-f8c9-4f0d-8853-46b00228d171",
   "metadata": {},
   "outputs": [
    {
     "name": "stdout",
     "output_type": "stream",
     "text": [
      "PUUID: b-zNFgYAT2sxjwn6483-dpbjI_hIcwKmEiTnZPv4UMaOlg-EzeCuXUJLC-AFXSfExhq_mx-dVqHnWg\n"
     ]
    }
   ],
   "source": [
    "from riotwatcher import RiotWatcher\n",
    "\n",
    "def get_puuid(game_name, tag_line, region):\n",
    "    api_key = 'RGAPI-b4cb2319-df6b-44a5-bee6-f47b5930ed93'  # Replace 'your_api_key_here' with your actual API key\n",
    "    watcher = RiotWatcher(api_key)\n",
    "    \n",
    "    try:\n",
    "        account = watcher.account.by_riot_id(region, game_name, tag_line)\n",
    "        puuid = account['puuid']\n",
    "        return puuid\n",
    "    except Exception as e:\n",
    "        print(f\"An error occurred: {e}\")\n",
    "        return None\n",
    "\n",
    "# Example usage:\n",
    "game_name = 'RebirthNA'\n",
    "tag_line = 'NA1'\n",
    "region = 'americas'\n",
    "puuid = get_puuid(game_name, tag_line, region)\n",
    "print('PUUID:', puuid)\n"
   ]
  },
  {
   "cell_type": "code",
   "execution_count": 10,
   "id": "c82a4a64-026f-493d-bcbe-39c815aaa31a",
   "metadata": {},
   "outputs": [
    {
     "name": "stdout",
     "output_type": "stream",
     "text": [
      "An error occurred: 400 Client Error: Bad Request for url: https://americas.api.riotgames.com/lol/summoner/v4/summoners/by-name/RebirthNA\n",
      "No recent games found.\n"
     ]
    }
   ],
   "source": [
    "from riotwatcher import LolWatcher\n",
    "\n",
    "def get_recent_games(game_name, tag_line, region, num_games=20):\n",
    "    api_key = 'RGAPI-b4cb2319-df6b-44a5-bee6-f47b5930ed93'  # Replace 'your_api_key_here' with your actual API key\n",
    "    watcher = LolWatcher(api_key)\n",
    "    \n",
    "    try:\n",
    "        #account = .account.by_riot_id(region, game_name, tag_line)\n",
    "        account= watcher.summoner.by_name(region= region, summoner_name= game_name)\n",
    "        # Fixed: Corrected field to access the account ID\n",
    "        account_id = account['id']  \n",
    "        recent_games = watcher.match.matchlist_by_account(region, account_id, queue=420, end_index=num_games)\n",
    "        return recent_games['matches']\n",
    "    except Exception as e:\n",
    "        print(f\"An error occurred: {e}\")\n",
    "        return None\n",
    "\n",
    "# Example usage:\n",
    "game_name = 'RebirthNA'\n",
    "tag_line = 'NA1'\n",
    "region = 'americas'\n",
    "num_games = 20\n",
    "recent_games = get_recent_games(game_name, tag_line, region, num_games)\n",
    "\n",
    "if recent_games:  # Check if recent_games is not None before iterating\n",
    "    print('Recent Games:')\n",
    "    for game in recent_games:\n",
    "        print(game)\n",
    "else:\n",
    "    print(\"No recent games found.\")\n"
   ]
  },
  {
   "cell_type": "code",
   "execution_count": null,
   "id": "79b5ea38-a94c-4589-8617-0e2a5eb21d04",
   "metadata": {},
   "outputs": [],
   "source": []
  }
 ],
 "metadata": {
  "kernelspec": {
   "display_name": "Python 3 (ipykernel)",
   "language": "python",
   "name": "python3"
  },
  "language_info": {
   "codemirror_mode": {
    "name": "ipython",
    "version": 3
   },
   "file_extension": ".py",
   "mimetype": "text/x-python",
   "name": "python",
   "nbconvert_exporter": "python",
   "pygments_lexer": "ipython3",
   "version": "3.11.8"
  }
 },
 "nbformat": 4,
 "nbformat_minor": 5
}
