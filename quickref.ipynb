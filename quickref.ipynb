{
 "cells": [
  {
   "cell_type": "code",
   "execution_count": 2,
   "metadata": {},
   "outputs": [],
   "source": [
    "# What should I import?\n",
    "from riotwatcher import LolWatcher, RiotWatcher, ApiError #alt if you want to just use LolWatcher instead of rw.X\n",
    "from dotenv import dotenv_values"
   ]
  },
  {
   "cell_type": "code",
   "execution_count": 6,
   "metadata": {},
   "outputs": [],
   "source": [
    "# How do I load in my API key?\n",
    "def setup_env():\n",
    "    '''Load the API keys from the config file''' #this is called a docstring and will show in some editors when you start typing the function name\n",
    "    api_key = dotenv_values(\"../config.env\")['DEV_KEY']\n",
    "    lol_watcher = LolWatcher(api_key) #for league of legends specific calls\n",
    "    riot_watcher = RiotWatcher(api_key) #for all Riot games\n",
    "    \n",
    "    return lol_watcher, riot_watcher\n",
    "\n",
    "lol_watcher, riot_watcher= setup_env()"
   ]
  },
  {
   "cell_type": "code",
   "execution_count": 13,
   "metadata": {},
   "outputs": [],
   "source": [
    "# What are some common parameters I use?\n",
    "player_name= 'RebirthNA'.lower()\n",
    "player_tagline= 'na1'\n",
    "player_region= 'NA1'.lower() #[BR1, EUN1, EUW1, JP1, KR, LA1, LA2, NA1, OC1, TR1, RU] https://developer.riotgames.com/docs/lol#routing-values_platform-routing-values\n",
    "player_routing= 'americas' #https://developer.riotgames.com/docs/lol#routing-values_regional-routing-values\n",
    "\n",
    "queue_type= 'RANKED_SOLO_5x5' #acceptable parameters are [RANKED_SOLO_5x5, RANKED_FLEX_SR, RANKED_FLEX_TT], see https://developer.riotgames.com/apis#league-v4/GET_getChallengerLeague\n",
    "#for gamemode list see: https://static.developer.riotgames.com/docs/lol/gameModes.json"
   ]
  },
  {
   "cell_type": "code",
   "execution_count": 14,
   "metadata": {},
   "outputs": [
    {
     "name": "stdout",
     "output_type": "stream",
     "text": [
      "Riot Account data=  {'puuid': 'b-zNFgYAT2sxjwn6483-dpbjI_hIcwKmEiTnZPv4UMaOlg-EzeCuXUJLC-AFXSfExhq_mx-dVqHnWg', 'gameName': 'RebirthNA', 'tagLine': 'NA1'}\n",
      "LoL Account data=  {'id': 'pcWARW_sz_i_QJxfk0wDsH9SLQKITEUBUBLjDo8v9BqJbKQ', 'accountId': 'XkCpzLojDFlh1wKIg9jH1R1njhA24oeHQ-lw35QA8CeP5w', 'puuid': 'b-zNFgYAT2sxjwn6483-dpbjI_hIcwKmEiTnZPv4UMaOlg-EzeCuXUJLC-AFXSfExhq_mx-dVqHnWg', 'profileIconId': 691, 'revisionDate': 1739066190260, 'summonerLevel': 382}\n",
      "RebirthNA#NA1\n"
     ]
    }
   ],
   "source": [
    "# How do I get a player's account information?\n",
    "\n",
    "# For the broader Riot account, which will have the name and tagline\n",
    "riotAccount = riot_watcher.account.by_riot_id(player_routing, player_name, player_tagline)\n",
    "print('Riot Account data= ', riotAccount)\n",
    "# For the League of Legends account, which will have the account ID\n",
    "lolAccount = lol_watcher.summoner.by_puuid(player_region, riotAccount['puuid'])\n",
    "print('LoL Account data= ', lolAccount)\n",
    "\n",
    "# Because Riot uses PUUIDs for everything, you will need to use the PUUID to get the gameName and tagLine\n",
    "riotAccount_byPuuid= riot_watcher.account.by_puuid(player_routing, riotAccount['puuid']) #this is how to do puuid -> 'gameName' and 'tagLine' for the player\n",
    "print(riotAccount_byPuuid['gameName']+\"#\"+riotAccount_byPuuid['tagLine'])"
   ]
  },
  {
   "cell_type": "code",
   "execution_count": 15,
   "metadata": {},
   "outputs": [
    {
     "name": "stdout",
     "output_type": "stream",
     "text": [
      "['__class__', '__delattr__', '__dict__', '__dir__', '__doc__', '__eq__', '__format__', '__ge__', '__getattribute__', '__getstate__', '__gt__', '__hash__', '__init__', '__init_subclass__', '__le__', '__lt__', '__module__', '__ne__', '__new__', '__reduce__', '__reduce_ex__', '__repr__', '__setattr__', '__sizeof__', '__str__', '__subclasshook__', '__weakref__', '_base_api', '_endpoint_name', '_request_endpoint', 'by_puuid', 'by_puuid_by_champion', 'scores_by_puuid', 'top_by_puuid']\n"
     ]
    }
   ],
   "source": [
    "# How can I tell what methods are associated with something?\n",
    "\n",
    "# use dir()!\n",
    "print(dir(lol_watcher.champion_mastery))"
   ]
  }
 ],
 "metadata": {
  "kernelspec": {
   "display_name": "riotwatcher",
   "language": "python",
   "name": "python3"
  },
  "language_info": {
   "codemirror_mode": {
    "name": "ipython",
    "version": 3
   },
   "file_extension": ".py",
   "mimetype": "text/x-python",
   "name": "python",
   "nbconvert_exporter": "python",
   "pygments_lexer": "ipython3",
   "version": "3.12.9"
  }
 },
 "nbformat": 4,
 "nbformat_minor": 2
}
