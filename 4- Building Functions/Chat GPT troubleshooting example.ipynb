{
 "cells": [
  {
   "cell_type": "code",
   "execution_count": 2,
   "id": "dd6fdd70-3a14-4546-92e2-e705eeef5eb6",
   "metadata": {},
   "outputs": [
    {
     "ename": "HTTPError",
     "evalue": "403 Client Error: Forbidden for url: https://na1.api.riotgames.com/lol/champion-mastery/v4/champion-masteries/by-summoner/pcWARW_sz_i_QJxfk0wDsH9SLQKITEUBUBLjDo8v9BqJbKQ",
     "output_type": "error",
     "traceback": [
      "\u001b[1;31m---------------------------------------------------------------------------\u001b[0m",
      "\u001b[1;31mHTTPError\u001b[0m                                 Traceback (most recent call last)",
      "File \u001b[1;32m~\\miniconda3\\envs\\riot_watcher_env\\Lib\\site-packages\\riotwatcher\\Handlers\\ThrowOnErrorHandler.py:18\u001b[0m, in \u001b[0;36mThrowOnErrorHandler.after_request\u001b[1;34m(self, region, endpoint_name, method_name, url, response)\u001b[0m\n\u001b[0;32m     17\u001b[0m \u001b[38;5;28;01mtry\u001b[39;00m:\n\u001b[1;32m---> 18\u001b[0m     \u001b[43mresponse\u001b[49m\u001b[38;5;241;43m.\u001b[39;49m\u001b[43mraise_for_status\u001b[49m\u001b[43m(\u001b[49m\u001b[43m)\u001b[49m\n\u001b[0;32m     19\u001b[0m \u001b[38;5;28;01mexcept\u001b[39;00m requests\u001b[38;5;241m.\u001b[39mHTTPError \u001b[38;5;28;01mas\u001b[39;00m err:\n",
      "File \u001b[1;32m~\\miniconda3\\envs\\riot_watcher_env\\Lib\\site-packages\\requests\\models.py:1021\u001b[0m, in \u001b[0;36mResponse.raise_for_status\u001b[1;34m(self)\u001b[0m\n\u001b[0;32m   1020\u001b[0m \u001b[38;5;28;01mif\u001b[39;00m http_error_msg:\n\u001b[1;32m-> 1021\u001b[0m     \u001b[38;5;28;01mraise\u001b[39;00m HTTPError(http_error_msg, response\u001b[38;5;241m=\u001b[39m\u001b[38;5;28mself\u001b[39m)\n",
      "\u001b[1;31mHTTPError\u001b[0m: 403 Client Error: Forbidden for url: https://na1.api.riotgames.com/lol/champion-mastery/v4/champion-masteries/by-summoner/pcWARW_sz_i_QJxfk0wDsH9SLQKITEUBUBLjDo8v9BqJbKQ",
      "\nDuring handling of the above exception, another exception occurred:\n",
      "\u001b[1;31mHTTPError\u001b[0m                                 Traceback (most recent call last)",
      "Cell \u001b[1;32mIn[2], line 15\u001b[0m\n\u001b[0;32m     12\u001b[0m summoner \u001b[38;5;241m=\u001b[39m watcher\u001b[38;5;241m.\u001b[39msummoner\u001b[38;5;241m.\u001b[39mby_name(tagline, game_name)\n\u001b[0;32m     14\u001b[0m \u001b[38;5;66;03m# Get champion mastery data\u001b[39;00m\n\u001b[1;32m---> 15\u001b[0m mastery_data \u001b[38;5;241m=\u001b[39m \u001b[43mwatcher\u001b[49m\u001b[38;5;241;43m.\u001b[39;49m\u001b[43mchampion_mastery\u001b[49m\u001b[38;5;241;43m.\u001b[39;49m\u001b[43mby_summoner\u001b[49m\u001b[43m(\u001b[49m\u001b[43mregion\u001b[49m\u001b[38;5;241;43m=\u001b[39;49m\u001b[43mtagline\u001b[49m\u001b[43m,\u001b[49m\u001b[43m \u001b[49m\u001b[43mencrypted_summoner_id\u001b[49m\u001b[38;5;241;43m=\u001b[39;49m\u001b[43msummoner\u001b[49m\u001b[43m[\u001b[49m\u001b[38;5;124;43m'\u001b[39;49m\u001b[38;5;124;43mid\u001b[39;49m\u001b[38;5;124;43m'\u001b[39;49m\u001b[43m]\u001b[49m\u001b[43m)\u001b[49m\n\u001b[0;32m     17\u001b[0m \u001b[38;5;28mprint\u001b[39m(mastery_data)\n",
      "File \u001b[1;32m~\\miniconda3\\envs\\riot_watcher_env\\Lib\\site-packages\\riotwatcher\\_apis\\league_of_legends\\ChampionMasteryApiV4.py:32\u001b[0m, in \u001b[0;36mChampionMasteryApiV4.by_summoner\u001b[1;34m(self, region, encrypted_summoner_id)\u001b[0m\n\u001b[0;32m     21\u001b[0m \u001b[38;5;28;01mdef\u001b[39;00m \u001b[38;5;21mby_summoner\u001b[39m(\u001b[38;5;28mself\u001b[39m, region: \u001b[38;5;28mstr\u001b[39m, encrypted_summoner_id: \u001b[38;5;28mstr\u001b[39m):\n\u001b[0;32m     22\u001b[0m \u001b[38;5;250m    \u001b[39m\u001b[38;5;124;03m\"\"\"\u001b[39;00m\n\u001b[0;32m     23\u001b[0m \u001b[38;5;124;03m    Get all champion mastery entries.\u001b[39;00m\n\u001b[0;32m     24\u001b[0m \n\u001b[1;32m   (...)\u001b[0m\n\u001b[0;32m     30\u001b[0m \u001b[38;5;124;03m                                        combination.\u001b[39;00m\n\u001b[0;32m     31\u001b[0m \u001b[38;5;124;03m    \"\"\"\u001b[39;00m\n\u001b[1;32m---> 32\u001b[0m     \u001b[38;5;28;01mreturn\u001b[39;00m \u001b[38;5;28;43mself\u001b[39;49m\u001b[38;5;241;43m.\u001b[39;49m\u001b[43m_request_endpoint\u001b[49m\u001b[43m(\u001b[49m\n\u001b[0;32m     33\u001b[0m \u001b[43m        \u001b[49m\u001b[38;5;28;43mself\u001b[39;49m\u001b[38;5;241;43m.\u001b[39;49m\u001b[43mby_summoner\u001b[49m\u001b[38;5;241;43m.\u001b[39;49m\u001b[38;5;18;43m__name__\u001b[39;49m\u001b[43m,\u001b[49m\n\u001b[0;32m     34\u001b[0m \u001b[43m        \u001b[49m\u001b[43mregion\u001b[49m\u001b[43m,\u001b[49m\n\u001b[0;32m     35\u001b[0m \u001b[43m        \u001b[49m\u001b[43mChampionMasteryApiV4Urls\u001b[49m\u001b[38;5;241;43m.\u001b[39;49m\u001b[43mby_summoner\u001b[49m\u001b[43m,\u001b[49m\n\u001b[0;32m     36\u001b[0m \u001b[43m        \u001b[49m\u001b[43mencrypted_summoner_id\u001b[49m\u001b[38;5;241;43m=\u001b[39;49m\u001b[43mencrypted_summoner_id\u001b[49m\u001b[43m,\u001b[49m\n\u001b[0;32m     37\u001b[0m \u001b[43m    \u001b[49m\u001b[43m)\u001b[49m\n",
      "File \u001b[1;32m~\\miniconda3\\envs\\riot_watcher_env\\Lib\\site-packages\\riotwatcher\\_apis\\NamedEndpoint.py:36\u001b[0m, in \u001b[0;36mNamedEndpoint._request_endpoint\u001b[1;34m(self, method_name, region, endpoint, **kwargs)\u001b[0m\n\u001b[0;32m     26\u001b[0m \u001b[38;5;250m\u001b[39m\u001b[38;5;124;03m\"\"\"\u001b[39;00m\n\u001b[0;32m     27\u001b[0m \u001b[38;5;124;03mSends a request through the BaseApi instance provided, injecting the provided\u001b[39;00m\n\u001b[0;32m     28\u001b[0m \u001b[38;5;124;03mendpoint_name into the method call, so the caller doesn't have to.\u001b[39;00m\n\u001b[1;32m   (...)\u001b[0m\n\u001b[0;32m     33\u001b[0m \u001b[38;5;124;03m                            parameters\u001b[39;00m\n\u001b[0;32m     34\u001b[0m \u001b[38;5;124;03m\"\"\"\u001b[39;00m\n\u001b[0;32m     35\u001b[0m url, query \u001b[38;5;241m=\u001b[39m endpoint(platform\u001b[38;5;241m=\u001b[39mregion, \u001b[38;5;241m*\u001b[39m\u001b[38;5;241m*\u001b[39mkwargs)\n\u001b[1;32m---> 36\u001b[0m \u001b[38;5;28;01mreturn\u001b[39;00m \u001b[38;5;28;43mself\u001b[39;49m\u001b[38;5;241;43m.\u001b[39;49m\u001b[43m_base_api\u001b[49m\u001b[38;5;241;43m.\u001b[39;49m\u001b[43mraw_request\u001b[49m\u001b[43m(\u001b[49m\n\u001b[0;32m     37\u001b[0m \u001b[43m    \u001b[49m\u001b[38;5;28;43mself\u001b[39;49m\u001b[38;5;241;43m.\u001b[39;49m\u001b[43m_endpoint_name\u001b[49m\u001b[43m,\u001b[49m\u001b[43m \u001b[49m\u001b[43mmethod_name\u001b[49m\u001b[43m,\u001b[49m\u001b[43m \u001b[49m\u001b[43mregion\u001b[49m\u001b[43m,\u001b[49m\u001b[43m \u001b[49m\u001b[43murl\u001b[49m\u001b[43m,\u001b[49m\u001b[43m \u001b[49m\u001b[43mquery\u001b[49m\n\u001b[0;32m     38\u001b[0m \u001b[43m\u001b[49m\u001b[43m)\u001b[49m\n",
      "File \u001b[1;32m~\\miniconda3\\envs\\riot_watcher_env\\Lib\\site-packages\\riotwatcher\\_apis\\BaseApi.py:51\u001b[0m, in \u001b[0;36mBaseApi.raw_request\u001b[1;34m(self, endpoint_name, method_name, region, url, query_params)\u001b[0m\n\u001b[0;32m     49\u001b[0m \u001b[38;5;28;01mif\u001b[39;00m \u001b[38;5;28mself\u001b[39m\u001b[38;5;241m.\u001b[39m_request_handlers \u001b[38;5;129;01mis\u001b[39;00m \u001b[38;5;129;01mnot\u001b[39;00m \u001b[38;5;28;01mNone\u001b[39;00m:\n\u001b[0;32m     50\u001b[0m     \u001b[38;5;28;01mfor\u001b[39;00m handler \u001b[38;5;129;01min\u001b[39;00m \u001b[38;5;28mself\u001b[39m\u001b[38;5;241m.\u001b[39m_request_handlers[early_ret_idx:\u001b[38;5;28;01mNone\u001b[39;00m:\u001b[38;5;241m-\u001b[39m\u001b[38;5;241m1\u001b[39m]:\n\u001b[1;32m---> 51\u001b[0m         mod \u001b[38;5;241m=\u001b[39m \u001b[43mhandler\u001b[49m\u001b[38;5;241;43m.\u001b[39;49m\u001b[43mafter_request\u001b[49m\u001b[43m(\u001b[49m\n\u001b[0;32m     52\u001b[0m \u001b[43m            \u001b[49m\u001b[43mregion\u001b[49m\u001b[43m,\u001b[49m\u001b[43m \u001b[49m\u001b[43mendpoint_name\u001b[49m\u001b[43m,\u001b[49m\u001b[43m \u001b[49m\u001b[43mmethod_name\u001b[49m\u001b[43m,\u001b[49m\u001b[43m \u001b[49m\u001b[43murl\u001b[49m\u001b[43m,\u001b[49m\u001b[43m \u001b[49m\u001b[43mresponse\u001b[49m\n\u001b[0;32m     53\u001b[0m \u001b[43m        \u001b[49m\u001b[43m)\u001b[49m\n\u001b[0;32m     54\u001b[0m         \u001b[38;5;28;01mif\u001b[39;00m mod \u001b[38;5;129;01mis\u001b[39;00m \u001b[38;5;129;01mnot\u001b[39;00m \u001b[38;5;28;01mNone\u001b[39;00m:\n\u001b[0;32m     55\u001b[0m             response \u001b[38;5;241m=\u001b[39m mod\n",
      "File \u001b[1;32m~\\miniconda3\\envs\\riot_watcher_env\\Lib\\site-packages\\riotwatcher\\Handlers\\ThrowOnErrorHandler.py:20\u001b[0m, in \u001b[0;36mThrowOnErrorHandler.after_request\u001b[1;34m(self, region, endpoint_name, method_name, url, response)\u001b[0m\n\u001b[0;32m     18\u001b[0m     response\u001b[38;5;241m.\u001b[39mraise_for_status()\n\u001b[0;32m     19\u001b[0m \u001b[38;5;28;01mexcept\u001b[39;00m requests\u001b[38;5;241m.\u001b[39mHTTPError \u001b[38;5;28;01mas\u001b[39;00m err:\n\u001b[1;32m---> 20\u001b[0m     \u001b[38;5;28;01mraise\u001b[39;00m ApiError(\u001b[38;5;241m*\u001b[39merr\u001b[38;5;241m.\u001b[39margs, request\u001b[38;5;241m=\u001b[39merr\u001b[38;5;241m.\u001b[39mrequest, response\u001b[38;5;241m=\u001b[39merr\u001b[38;5;241m.\u001b[39mresponse)\n",
      "\u001b[1;31mHTTPError\u001b[0m: 403 Client Error: Forbidden for url: https://na1.api.riotgames.com/lol/champion-mastery/v4/champion-masteries/by-summoner/pcWARW_sz_i_QJxfk0wDsH9SLQKITEUBUBLjDo8v9BqJbKQ"
     ]
    }
   ],
   "source": [
    "from riotwatcher import LolWatcher\n",
    "\n",
    "# Initialize Riot API key and watcher\n",
    "api_key = 'RGAPI-6fb5b689-fa6d-4f60-90c1-a0841d070344'\n",
    "watcher = LolWatcher(api_key)\n",
    "\n",
    "# Define player info\n",
    "game_name = 'RebirthNA'\n",
    "tagline = 'NA1'\n",
    "\n",
    "# Get summoner information\n",
    "summoner = watcher.summoner.by_name(tagline, game_name)\n",
    "\n",
    "# Get champion mastery data\n",
    "mastery_data = watcher.champion_mastery.by_summoner(region=tagline, encrypted_summoner_id=summoner['id'])\n",
    "\n",
    "print(mastery_data)"
   ]
  },
  {
   "cell_type": "code",
   "execution_count": 3,
   "id": "55b58b7d-bff0-4c07-8889-568d99fec817",
   "metadata": {},
   "outputs": [
    {
     "ename": "TypeError",
     "evalue": "LeagueApiV4.entries() missing 2 required positional arguments: 'tier' and 'division'",
     "output_type": "error",
     "traceback": [
      "\u001b[1;31m---------------------------------------------------------------------------\u001b[0m",
      "\u001b[1;31mTypeError\u001b[0m                                 Traceback (most recent call last)",
      "Cell \u001b[1;32mIn[3], line 15\u001b[0m\n\u001b[0;32m     12\u001b[0m summoner \u001b[38;5;241m=\u001b[39m watcher\u001b[38;5;241m.\u001b[39msummoner\u001b[38;5;241m.\u001b[39mby_name(region\u001b[38;5;241m=\u001b[39mtagline, summoner_name\u001b[38;5;241m=\u001b[39mgame_name)\n\u001b[0;32m     14\u001b[0m \u001b[38;5;66;03m# Get champion mastery data\u001b[39;00m\n\u001b[1;32m---> 15\u001b[0m mastery_data \u001b[38;5;241m=\u001b[39m \u001b[43mwatcher\u001b[49m\u001b[38;5;241;43m.\u001b[39;49m\u001b[43mleague\u001b[49m\u001b[38;5;241;43m.\u001b[39;49m\u001b[43mentries\u001b[49m\u001b[43m(\u001b[49m\u001b[43mtagline\u001b[49m\u001b[43m,\u001b[49m\u001b[43m \u001b[49m\u001b[43msummoner\u001b[49m\u001b[43m[\u001b[49m\u001b[38;5;124;43m'\u001b[39;49m\u001b[38;5;124;43mid\u001b[39;49m\u001b[38;5;124;43m'\u001b[39;49m\u001b[43m]\u001b[49m\u001b[43m)\u001b[49m\n\u001b[0;32m     17\u001b[0m \u001b[38;5;28mprint\u001b[39m(mastery_data)\n",
      "\u001b[1;31mTypeError\u001b[0m: LeagueApiV4.entries() missing 2 required positional arguments: 'tier' and 'division'"
     ]
    }
   ],
   "source": [
    "from riotwatcher import LolWatcher\n",
    "\n",
    "# Initialize Riot API key and watcher\n",
    "watcher = LolWatcher(api_key)\n",
    "\n",
    "# Define player info\n",
    "game_name = 'RebirthNA'\n",
    "tagline = 'NA1'\n",
    "\n",
    "# Get summoner information\n",
    "summoner = watcher.summoner.by_name(region=tagline, summoner_name=game_name)\n",
    "\n",
    "# Get champion mastery data\n",
    "mastery_data = watcher.league.entries(tagline, summoner['id'])\n",
    "\n",
    "print(mastery_data)\n"
   ]
  },
  {
   "cell_type": "code",
   "execution_count": 4,
   "id": "27fc0b1e-ee97-4b19-a39e-d9523a85ca86",
   "metadata": {},
   "outputs": [
    {
     "ename": "NameError",
     "evalue": "name 'summoner_id' is not defined",
     "output_type": "error",
     "traceback": [
      "\u001b[1;31m---------------------------------------------------------------------------\u001b[0m",
      "\u001b[1;31mNameError\u001b[0m                                 Traceback (most recent call last)",
      "Cell \u001b[1;32mIn[4], line 9\u001b[0m\n\u001b[0;32m      6\u001b[0m api_key \u001b[38;5;241m=\u001b[39m \u001b[38;5;124m'\u001b[39m\u001b[38;5;124mRGAPI-6fb5b689-fa6d-4f60-90c1-a0841d070344\u001b[39m\u001b[38;5;124m'\u001b[39m\n\u001b[0;32m      8\u001b[0m \u001b[38;5;66;03m# Construct the API URL\u001b[39;00m\n\u001b[1;32m----> 9\u001b[0m url \u001b[38;5;241m=\u001b[39m \u001b[38;5;124mf\u001b[39m\u001b[38;5;124m\"\u001b[39m\u001b[38;5;124mhttps://\u001b[39m\u001b[38;5;132;01m{\u001b[39;00mtagline\u001b[38;5;132;01m}\u001b[39;00m\u001b[38;5;124m.api.riotgames.com/lol/champion-mastery/v4/champion-masteries/by-summoner/\u001b[39m\u001b[38;5;132;01m{\u001b[39;00m\u001b[43msummoner_id\u001b[49m\u001b[38;5;132;01m}\u001b[39;00m\u001b[38;5;124m?api_key=\u001b[39m\u001b[38;5;132;01m{\u001b[39;00mapi_key\u001b[38;5;132;01m}\u001b[39;00m\u001b[38;5;124m\"\u001b[39m\n\u001b[0;32m     11\u001b[0m \u001b[38;5;66;03m# Send the request and retrieve champion mastery data\u001b[39;00m\n\u001b[0;32m     12\u001b[0m response \u001b[38;5;241m=\u001b[39m requests\u001b[38;5;241m.\u001b[39mget(url)\n",
      "\u001b[1;31mNameError\u001b[0m: name 'summoner_id' is not defined"
     ]
    }
   ],
   "source": [
    "import requests\n",
    "\n",
    "# Define player info\n",
    "game_name = 'RebirthNA'\n",
    "tagline = 'NA1'\n",
    "\n",
    "# Construct the API URL\n",
    "url = f\"https://{tagline}.api.riotgames.com/lol/champion-mastery/v4/champion-masteries/by-summoner/{summoner_id}?api_key={api_key}\"\n",
    "\n",
    "# Send the request and retrieve champion mastery data\n",
    "response = requests.get(url)\n",
    "mastery_data = response.json()\n",
    "\n",
    "print(mastery_data)\n"
   ]
  },
  {
   "cell_type": "code",
   "execution_count": 17,
   "id": "0b8d5db6-d0be-4cfb-a5d0-d7b9e4422449",
   "metadata": {},
   "outputs": [
    {
     "name": "stdout",
     "output_type": "stream",
     "text": [
      "b-zNFgYAT2sxjwn6483-dpbjI_hIcwKmEiTnZPv4UMaOlg-EzeCuXUJLC-AFXSfExhq_mx-dVqHnWg\n",
      "{'puuid': 'b-zNFgYAT2sxjwn6483-dpbjI_hIcwKmEiTnZPv4UMaOlg-EzeCuXUJLC-AFXSfExhq_mx-dVqHnWg', 'championId': 145, 'championLevel': 7, 'championPoints': 360610, 'lastPlayTime': 1704663888000, 'championPointsSinceLastLevel': 339010, 'championPointsUntilNextLevel': 0, 'chestGranted': False, 'tokensEarned': 0, 'summonerId': '6p8TgmXukK9EwXNjXbfW9QZyBAE6CH4P44KgwMxRHilIojPf'}\n"
     ]
    }
   ],
   "source": [
    "import requests\n",
    "from dotenv import load_dotenv #'pip install python-dotenv' in Anaconda prompt\n",
    "import os\n",
    "\n",
    "# Define player info\n",
    "game_name = 'RebirthNA'\n",
    "tagline = 'NA1'\n",
    "load_dotenv('../../../config.env') #keeps API outside of repo\n",
    "api_key = os.environ['DEV_KEY'] \n",
    "region= 'americas'\n",
    "\n",
    "# Construct the API URL for puuid via endpoint= /riot/account/v1/accounts/by-riot-id/{gameName}/{tagLine}\n",
    "url = f\"https://{region}.api.riotgames.com/riot/account/v1/accounts/by-riot-id/{game_name}/{tagline}?api_key={api_key}\"\n",
    "# Send the request and retrieve puuid\n",
    "response = requests.get(url)\n",
    "player_puuid = response.json()['puuid']\n",
    "\n",
    "print(player_puuid)\n",
    "\n",
    "# Construct the API URL for champion mastery data via endpoint= /lol/champion-mastery/v4/champion-masteries/by-puuid/{encryptedPUUID}\n",
    "url = f\"https://{tagline}.api.riotgames.com/lol/champion-mastery/v4/champion-masteries/by-puuid/{player_puuid}?api_key={api_key}\"\n",
    "# Send the request and return the data\n",
    "response = requests.get(url)\n",
    "champ_mastery_data = response.json()[0]\n",
    "\n",
    "print(champ_mastery_data)"
   ]
  },
  {
   "cell_type": "code",
   "execution_count": null,
   "id": "fe8bc151-3a4b-4e3a-bf0d-8cb420833d9d",
   "metadata": {},
   "outputs": [],
   "source": []
  }
 ],
 "metadata": {
  "kernelspec": {
   "display_name": "Python 3 (ipykernel)",
   "language": "python",
   "name": "python3"
  },
  "language_info": {
   "codemirror_mode": {
    "name": "ipython",
    "version": 3
   },
   "file_extension": ".py",
   "mimetype": "text/x-python",
   "name": "python",
   "nbconvert_exporter": "python",
   "pygments_lexer": "ipython3",
   "version": "3.11.8"
  }
 },
 "nbformat": 4,
 "nbformat_minor": 5
}
