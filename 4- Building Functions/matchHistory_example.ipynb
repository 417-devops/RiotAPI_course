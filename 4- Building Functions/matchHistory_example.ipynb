{
 "cells": [
  {
   "cell_type": "code",
   "execution_count": 3,
   "id": "63c0cb58-9560-4412-8499-dd25694e5ec7",
   "metadata": {},
   "outputs": [],
   "source": [
    "from riotwatcher import LolWatcher, RiotWatcher #'pip install riotwatcher' in Anaconda prompt\n",
    "#from dotenv import load_dotenv #'pip install python-dotenv' in Anaconda prompt\n",
    "#import os\n",
    "from dotenv import dotenv_values\n",
    "\n",
    "#load_dotenv('../../../config.env') #keeps API outside of repo\n",
    "api_key = dotenv_values(\"../../config.env\")['DEV_KEY']\n",
    "#api_key = os.environ['DEV_KEY'] \n",
    "#api_key = 'YOUR-API-KEY' #alternatively, test with your key here\n",
    "\n",
    "lol_watcher = LolWatcher(api_key) #Tell Riot Watcher to use LoL functions with the API key\n",
    "riot_watcher = RiotWatcher(api_key)"
   ]
  },
  {
   "cell_type": "code",
   "execution_count": 4,
   "id": "538996dd-1f89-4c08-83fc-dd8f50d7653e",
   "metadata": {},
   "outputs": [
    {
     "name": "stdout",
     "output_type": "stream",
     "text": [
      "Player info= \n",
      " {'puuid': 'b-zNFgYAT2sxjwn6483-dpbjI_hIcwKmEiTnZPv4UMaOlg-EzeCuXUJLC-AFXSfExhq_mx-dVqHnWg', 'gameName': 'RebirthNA', 'tagLine': 'NA1'}\n"
     ]
    }
   ],
   "source": [
    "player_name= 'RebirthNA'.lower()\n",
    "player_tagline= 'na1'\n",
    "player_region= 'NA1'.lower() #[BR1, EUN1, EUW1, JP1, KR, LA1, LA2, NA1, OC1, TR1, RU]  \n",
    "player_routing= 'americas'\n",
    "\n",
    "# This is equivalent to going to /riot/account/v1/accounts/by-riot-id/\n",
    "# NOTE: old version was summoner= lol_watcher.summoner.by_name(player_region, player_name); AS OF May 15, 2024 you should use the riot_watcher top level account object\n",
    "\n",
    "summoner = riot_watcher.account.by_riot_id(player_routing, player_name, player_tagline) #https://riot-watcher.readthedocs.io/en/latest/riotwatcher/Riot/AccountApi.html?highlight=account#riotwatcher._apis.riot.AccountApi.by_riot_id\n",
    "print('Player info= \\n',summoner)"
   ]
  },
  {
   "cell_type": "code",
   "execution_count": 5,
   "id": "23aba2c0-046f-4ba4-9d1d-dabd88e2aded",
   "metadata": {},
   "outputs": [
    {
     "name": "stdout",
     "output_type": "stream",
     "text": [
      "Recent matchID=\n",
      " ['NA1_5225392166', 'NA1_5225107165', 'NA1_5225038409', 'NA1_5224630781', 'NA1_5224609269', 'NA1_5224421973', 'NA1_5224409647', 'NA1_5223914661', 'NA1_5223892683', 'NA1_5223256480', 'NA1_5216023285', 'NA1_5216014170', 'NA1_5215828935', 'NA1_5215818603', 'NA1_5214231630', 'NA1_5214215885', 'NA1_5213818520', 'NA1_5213811862', 'NA1_5211330065', 'NA1_5211306422']\n"
     ]
    }
   ],
   "source": [
    "matchlist= lol_watcher.match.matchlist_by_puuid(region= player_region, puuid= summoner['puuid'])\n",
    "print('Recent matchID=\\n', matchlist)"
   ]
  }
 ],
 "metadata": {
  "kernelspec": {
   "display_name": "riotwatcher",
   "language": "python",
   "name": "python3"
  },
  "language_info": {
   "codemirror_mode": {
    "name": "ipython",
    "version": 3
   },
   "file_extension": ".py",
   "mimetype": "text/x-python",
   "name": "python",
   "nbconvert_exporter": "python",
   "pygments_lexer": "ipython3",
   "version": "3.12.9"
  }
 },
 "nbformat": 4,
 "nbformat_minor": 5
}
