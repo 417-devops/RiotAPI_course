{
 "cells": [
  {
   "cell_type": "code",
   "execution_count": 22,
   "id": "63c0cb58-9560-4412-8499-dd25694e5ec7",
   "metadata": {},
   "outputs": [],
   "source": [
    "from riotwatcher import LolWatcher, RiotWatcher #'pip install riotwatcher' in Anaconda prompt\n",
    "from dotenv import load_dotenv #'pip install python-dotenv' in Anaconda prompt\n",
    "import os\n",
    "\n",
    "load_dotenv('../../../config.env') #keeps API outside of repo\n",
    "api_key = os.environ['DEV_KEY'] \n",
    "#api_key = 'YOUR-API-KEY' #alternatively, test with your key here\n",
    "\n",
    "lol_watcher = LolWatcher(api_key) #Tell Riot Watcher to use LoL functions with the API key\n",
    "riot_watcher = RiotWatcher(api_key)"
   ]
  },
  {
   "cell_type": "code",
   "execution_count": 26,
   "id": "538996dd-1f89-4c08-83fc-dd8f50d7653e",
   "metadata": {},
   "outputs": [
    {
     "name": "stdout",
     "output_type": "stream",
     "text": [
      "Player info= \n",
      " {'puuid': 'b-zNFgYAT2sxjwn6483-dpbjI_hIcwKmEiTnZPv4UMaOlg-EzeCuXUJLC-AFXSfExhq_mx-dVqHnWg', 'gameName': 'RebirthNA', 'tagLine': 'NA1'}\n"
     ]
    }
   ],
   "source": [
    "player_name= 'RebirthNA'.lower()\n",
    "player_tag= 'NA1'\n",
    "player_region= 'NA1'.lower() #[BR1, EUN1, EUW1, JP1, KR, LA1, LA2, NA1, OC1, TR1, RU]  \n",
    "player_routing= 'americas'\n",
    "\n",
    "# This is equivalent to going to /riot/account/v1/accounts/by-riot-id/\n",
    "# NOTE: old version was summoner= lol_watcher.summoner.by_name(player_region, player_name); AS OF May 15, 2024 you should use the riot_watcher top level account object\n",
    "## example below: \n",
    "## from riotwatcher import RiotWatcher\n",
    "## riot_watcher = RiotWatcher('your-api-key') \n",
    "## account_data = riot_watcher.account.by_riot_id(region, game_name=\"RebirthNA\", tag_line=\"NA1\")\n",
    "summoner = riot_watcher.account.by_riot_id(player_routing, player_name,player_tag)\n",
    "print('Player info= \\n',summoner)"
   ]
  },
  {
   "cell_type": "code",
   "execution_count": 27,
   "id": "23aba2c0-046f-4ba4-9d1d-dabd88e2aded",
   "metadata": {},
   "outputs": [
    {
     "name": "stdout",
     "output_type": "stream",
     "text": [
      "Recent matchID=\n",
      " ['NA1_4999839388', 'NA1_4996494008', 'NA1_4995700269', 'NA1_4993605365', 'NA1_4993029899', 'NA1_4992998270', 'NA1_4990435575', 'NA1_4989306209', 'NA1_4987822311', 'NA1_4987798283', 'NA1_4986963998', 'NA1_4986132898', 'NA1_4986111743', 'NA1_4977762833', 'NA1_4967786664', 'NA1_4966812460', 'NA1_4966807827', 'NA1_4966150618', 'NA1_4966104372', 'NA1_4965931562']\n"
     ]
    }
   ],
   "source": [
    "matchlist= lol_watcher.match.matchlist_by_puuid(region= player_region, puuid= summoner['puuid'])\n",
    "print('Recent matchID=\\n', matchlist)"
   ]
  }
 ],
 "metadata": {
  "kernelspec": {
   "display_name": "Python 3 (ipykernel)",
   "language": "python",
   "name": "python3"
  },
  "language_info": {
   "codemirror_mode": {
    "name": "ipython",
    "version": 3
   },
   "file_extension": ".py",
   "mimetype": "text/x-python",
   "name": "python",
   "nbconvert_exporter": "python",
   "pygments_lexer": "ipython3",
   "version": "3.11.8"
  }
 },
 "nbformat": 4,
 "nbformat_minor": 5
}
