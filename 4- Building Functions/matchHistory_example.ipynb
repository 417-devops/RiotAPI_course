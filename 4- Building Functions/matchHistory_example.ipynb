{
 "cells": [
  {
   "cell_type": "code",
   "execution_count": 1,
   "id": "63c0cb58-9560-4412-8499-dd25694e5ec7",
   "metadata": {},
   "outputs": [],
   "source": [
    "from riotwatcher import LolWatcher #'pip install riotwatcher' in Anaconda prompt\n",
    "from dotenv import load_dotenv #'pip install python-dotenv' in Anaconda prompt\n",
    "import os\n",
    "\n",
    "load_dotenv('../../../config.env') #keeps API outside of repo\n",
    "api_key = os.environ['DEV_KEY'] \n",
    "# api_key = 'YOUR_API_KEY' #alternatively, test with your key here\n",
    "\n",
    "lol_watcher = LolWatcher(api_key) #Tell Riot Watcher to use LoL functions with the API key"
   ]
  },
  {
   "cell_type": "code",
   "execution_count": 2,
   "id": "538996dd-1f89-4c08-83fc-dd8f50d7653e",
   "metadata": {},
   "outputs": [
    {
     "name": "stdout",
     "output_type": "stream",
     "text": [
      "Player info= \n",
      " {'id': 'pcWARW_sz_i_QJxfk0wDsH9SLQKITEUBUBLjDo8v9BqJbKQ', 'accountId': 'XkCpzLojDFlh1wKIg9jH1R1njhA24oeHQ-lw35QA8CeP5w', 'puuid': 'b-zNFgYAT2sxjwn6483-dpbjI_hIcwKmEiTnZPv4UMaOlg-EzeCuXUJLC-AFXSfExhq_mx-dVqHnWg', 'name': 'RebirthNA', 'profileIconId': 691, 'revisionDate': 1710121685380, 'summonerLevel': 363}\n"
     ]
    }
   ],
   "source": [
    "player_name= 'RebirthNA'.lower()\n",
    "player_region= 'NA1'.lower() #[BR1, EUN1, EUW1, JP1, KR, LA1, LA2, NA1, OC1, TR1, RU]  \n",
    "player_routing= 'americas'\n",
    "\n",
    "# This is equivalent to going to /riot/account/v1/accounts/by-riot-id/\n",
    "summoner= lol_watcher.summoner.by_name(player_region, player_name)\n",
    "print('Player info= \\n',summoner)"
   ]
  },
  {
   "cell_type": "code",
   "execution_count": 3,
   "id": "23aba2c0-046f-4ba4-9d1d-dabd88e2aded",
   "metadata": {},
   "outputs": [
    {
     "name": "stdout",
     "output_type": "stream",
     "text": [
      "Recent matchID=\n",
      " ['NA1_4944122196', 'NA1_4944108851', 'NA1_4943679289', 'NA1_4943676320', 'NA1_4943042335', 'NA1_4942280929', 'NA1_4942243888', 'NA1_4942122252', 'NA1_4940672176', 'NA1_4940464562', 'NA1_4939820937', 'NA1_4939167939', 'NA1_4939148134', 'NA1_4939145914', 'NA1_4939061513', 'NA1_4938416925', 'NA1_4937994830', 'NA1_4934298019', 'NA1_4934264510', 'NA1_4934229470']\n"
     ]
    }
   ],
   "source": [
    "matchlist= lol_watcher.match.matchlist_by_puuid(region= player_region, puuid= summoner['puuid'])\n",
    "print('Recent matchID=\\n', matchlist)"
   ]
  },
  {
   "cell_type": "code",
   "execution_count": null,
   "id": "78b1c9e9-4db8-4c58-afc7-0918a84e8da0",
   "metadata": {},
   "outputs": [],
   "source": []
  }
 ],
 "metadata": {
  "kernelspec": {
   "display_name": "Python 3 (ipykernel)",
   "language": "python",
   "name": "python3"
  },
  "language_info": {
   "codemirror_mode": {
    "name": "ipython",
    "version": 3
   },
   "file_extension": ".py",
   "mimetype": "text/x-python",
   "name": "python",
   "nbconvert_exporter": "python",
   "pygments_lexer": "ipython3",
   "version": "3.12.2"
  }
 },
 "nbformat": 4,
 "nbformat_minor": 5
}
