{
 "cells": [
  {
   "cell_type": "code",
   "execution_count": 3,
   "id": "e462bb33-446a-4cb7-835e-a1c92aa23a78",
   "metadata": {},
   "outputs": [
    {
     "name": "stdout",
     "output_type": "stream",
     "text": [
      "Error making request: HTTPSConnectionPool(host='127.0.0.1', port=2999): Max retries exceeded with url: /liveclientdata/allgamedata (Caused by NewConnectionError('<urllib3.connection.HTTPSConnection object at 0x000001CC6E3EBED0>: Failed to establish a new connection: [WinError 10061] No connection could be made because the target machine actively refused it'))\n",
      "Error making request: HTTPSConnectionPool(host='127.0.0.1', port=2999): Max retries exceeded with url: /liveclientdata/allgamedata (Caused by NewConnectionError('<urllib3.connection.HTTPSConnection object at 0x000001CC6E3F1ED0>: Failed to establish a new connection: [WinError 10061] No connection could be made because the target machine actively refused it'))\n",
      "Error making request: HTTPSConnectionPool(host='127.0.0.1', port=2999): Max retries exceeded with url: /liveclientdata/allgamedata (Caused by NewConnectionError('<urllib3.connection.HTTPSConnection object at 0x000001CC6E3F3F10>: Failed to establish a new connection: [WinError 10061] No connection could be made because the target machine actively refused it'))\n",
      "Error making request: HTTPSConnectionPool(host='127.0.0.1', port=2999): Max retries exceeded with url: /liveclientdata/allgamedata (Caused by NewConnectionError('<urllib3.connection.HTTPSConnection object at 0x000001CC6E3F2DD0>: Failed to establish a new connection: [WinError 10061] No connection could be made because the target machine actively refused it'))\n",
      "Error making request: HTTPSConnectionPool(host='127.0.0.1', port=2999): Max retries exceeded with url: /liveclientdata/allgamedata (Caused by NewConnectionError('<urllib3.connection.HTTPSConnection object at 0x000001CC6E3F1D90>: Failed to establish a new connection: [WinError 10061] No connection could be made because the target machine actively refused it'))\n"
     ]
    }
   ],
   "source": [
    "import requests\n",
    "import time\n",
    "import warnings\n",
    "\n",
    "def get_current_gold():\n",
    "    url = \"https://127.0.0.1:2999/liveclientdata/allgamedata\"\n",
    "    for _ in range(5):\n",
    "        warnings.simplefilter(\"ignore\") #to suppress the warnings about insecure network request\n",
    "        try:\n",
    "            response = requests.get(url, verify=False)  # Ignore SSL certificate errors\n",
    "            data = response.json()\n",
    "            currentGold= data['activePlayer']['currentGold']\n",
    "            print(f\"{data['activePlayer']['summonerName']} currently has {round(currentGold,2)}g at {round(data['gameData']['gameTime'],2)} seconds\")\n",
    "        except requests.exceptions.RequestException as e:\n",
    "            print(\"Error making request:\", e)\n",
    "        except KeyError:\n",
    "            print(\"Unable to retrieve current gold value from the response.\")\n",
    "        time.sleep(0.5)  # Wait for 0.5s second before the next iteration\n",
    "\n",
    "# Call the function to run it\n",
    "get_current_gold()"
   ]
  },
  {
   "cell_type": "code",
   "execution_count": null,
   "id": "5e4b31d0-f3f6-4c81-8726-2751886b06db",
   "metadata": {},
   "outputs": [],
   "source": []
  }
 ],
 "metadata": {
  "kernelspec": {
   "display_name": "Python 3 (ipykernel)",
   "language": "python",
   "name": "python3"
  },
  "language_info": {
   "codemirror_mode": {
    "name": "ipython",
    "version": 3
   },
   "file_extension": ".py",
   "mimetype": "text/x-python",
   "name": "python",
   "nbconvert_exporter": "python",
   "pygments_lexer": "ipython3",
   "version": "3.11.8"
  }
 },
 "nbformat": 4,
 "nbformat_minor": 5
}
