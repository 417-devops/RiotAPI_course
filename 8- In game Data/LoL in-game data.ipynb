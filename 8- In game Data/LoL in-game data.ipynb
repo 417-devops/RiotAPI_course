{
 "cells": [
  {
   "cell_type": "code",
   "execution_count": 3,
   "id": "e462bb33-446a-4cb7-835e-a1c92aa23a78",
   "metadata": {},
   "outputs": [
    {
     "name": "stdout",
     "output_type": "stream",
     "text": [
      "RebirthNA#NA1 currently has 573.44g at 156.84 seconds\n",
      "RebirthNA#NA1 currently has 574.46g at 157.7 seconds\n",
      "RebirthNA#NA1 currently has 576.5g at 158.57 seconds\n",
      "RebirthNA#NA1 currently has 578.54g at 159.42 seconds\n",
      "RebirthNA#NA1 currently has 580.58g at 160.28 seconds\n"
     ]
    }
   ],
   "source": [
    "import requests\n",
    "import time\n",
    "import warnings\n",
    "\n",
    "def get_current_gold():\n",
    "    url = \"https://127.0.0.1:2999/liveclientdata/allgamedata\"\n",
    "    for _ in range(5):\n",
    "        warnings.simplefilter(\"ignore\") #to suppress the warnings about insecure network request\n",
    "        try:\n",
    "            response = requests.get(url, verify=False)  # Ignore SSL certificate errors\n",
    "            data = response.json()\n",
    "            currentGold= data['activePlayer']['currentGold']\n",
    "            print(f\"{data['activePlayer']['summonerName']} currently has {round(currentGold,2)}g at {round(data['gameData']['gameTime'],2)} seconds\")\n",
    "        except requests.exceptions.RequestException as e:\n",
    "            print(\"Error making request:\", e)\n",
    "        except KeyError:\n",
    "            print(\"Unable to retrieve current gold value from the response.\")\n",
    "        time.sleep(0.5)  # Wait for 0.5s second before the next iteration\n",
    "\n",
    "# Call the function to run it\n",
    "get_current_gold()"
   ]
  },
  {
   "cell_type": "code",
   "execution_count": null,
   "id": "43ab3bf7-d26f-4259-84d9-d9a870266497",
   "metadata": {},
   "outputs": [],
   "source": []
  },
  {
   "cell_type": "code",
   "execution_count": 4,
   "id": "5e4b31d0-f3f6-4c81-8726-2751886b06db",
   "metadata": {},
   "outputs": [
    {
     "name": "stdout",
     "output_type": "stream",
     "text": [
      "RebirthNA#NA1 currently has 833.55g at 284.36 seconds\n",
      "RebirthNA#NA1 currently has 836.61g at 285.72 seconds\n",
      "RebirthNA#NA1 currently has 838.65g at 287.07 seconds\n",
      "RebirthNA#NA1 currently has 841.71g at 288.43 seconds\n",
      "RebirthNA#NA1 currently has 844.77g at 289.79 seconds\n",
      "RebirthNA#NA1 currently has 846.81g at 291.16 seconds\n",
      "RebirthNA#NA1 currently has 849.87g at 292.52 seconds\n",
      "RebirthNA#NA1 currently has 852.93g at 293.87 seconds\n",
      "RebirthNA#NA1 currently has 855.99g at 295.23 seconds\n"
     ]
    },
    {
     "ename": "KeyboardInterrupt",
     "evalue": "",
     "output_type": "error",
     "traceback": [
      "\u001b[1;31m---------------------------------------------------------------------------\u001b[0m",
      "\u001b[1;31mKeyboardInterrupt\u001b[0m                         Traceback (most recent call last)",
      "Cell \u001b[1;32mIn[4], line 35\u001b[0m\n\u001b[0;32m     32\u001b[0m             \u001b[38;5;28;01mbreak\u001b[39;00m\n\u001b[0;32m     34\u001b[0m \u001b[38;5;66;03m# Call the function to run it\u001b[39;00m\n\u001b[1;32m---> 35\u001b[0m get_current_gold()\n",
      "Cell \u001b[1;32mIn[4], line 28\u001b[0m, in \u001b[0;36mget_current_gold\u001b[1;34m()\u001b[0m\n\u001b[0;32m     26\u001b[0m \u001b[38;5;28;01mexcept\u001b[39;00m \u001b[38;5;167;01mKeyError\u001b[39;00m:\n\u001b[0;32m     27\u001b[0m     \u001b[38;5;28mprint\u001b[39m(\u001b[38;5;124m\"\u001b[39m\u001b[38;5;124mUnable to retrieve current gold value from the response.\u001b[39m\u001b[38;5;124m\"\u001b[39m)\n\u001b[1;32m---> 28\u001b[0m time\u001b[38;5;241m.\u001b[39msleep(\u001b[38;5;241m1\u001b[39m)  \u001b[38;5;66;03m# Wait for 1 second before the next iteration\u001b[39;00m\n\u001b[0;32m     30\u001b[0m \u001b[38;5;66;03m# Check for keyboard input\u001b[39;00m\n\u001b[0;32m     31\u001b[0m \u001b[38;5;28;01mif\u001b[39;00m kbhit():\n",
      "\u001b[1;31mKeyboardInterrupt\u001b[0m: "
     ]
    }
   ],
   "source": [
    "#run until user input\n",
    "import requests\n",
    "import time\n",
    "import warnings\n",
    "import sys\n",
    "\n",
    "def kbhit():\n",
    "    if sys.platform.startswith('win'):\n",
    "        import msvcrt\n",
    "        return msvcrt.kbhit()\n",
    "    else:\n",
    "        import select\n",
    "        return select.select([sys.stdin], [], [], 0)[0]\n",
    "\n",
    "def get_current_gold():\n",
    "    url = \"https://127.0.0.1:2999/liveclientdata/allgamedata\"\n",
    "    while True:\n",
    "        warnings.simplefilter(\"ignore\")  # to suppress the warnings about insecure network request\n",
    "        try:\n",
    "            response = requests.get(url, verify=False)  # Ignore SSL certificate errors\n",
    "            data = response.json()\n",
    "            currentGold = data['activePlayer']['currentGold']\n",
    "            print(f\"{data['activePlayer']['summonerName']} currently has {round(currentGold, 2)}g at {round(data['gameData']['gameTime'], 2)} seconds\")\n",
    "        except requests.exceptions.RequestException as e:\n",
    "            print(\"Error making request:\", e)\n",
    "        except KeyError:\n",
    "            print(\"Unable to retrieve current gold value from the response.\")\n",
    "        time.sleep(1)  # Wait for 1 second before the next iteration\n",
    "\n",
    "        # Check for keyboard input\n",
    "        if kbhit():\n",
    "            break\n",
    "\n",
    "# Call the function to run it\n",
    "get_current_gold()\n"
   ]
  },
  {
   "cell_type": "code",
   "execution_count": null,
   "id": "c71b1c18-bd5a-454c-b67b-7ca4264ab8cf",
   "metadata": {},
   "outputs": [],
   "source": []
  }
 ],
 "metadata": {
  "kernelspec": {
   "display_name": "Python 3 (ipykernel)",
   "language": "python",
   "name": "python3"
  },
  "language_info": {
   "codemirror_mode": {
    "name": "ipython",
    "version": 3
   },
   "file_extension": ".py",
   "mimetype": "text/x-python",
   "name": "python",
   "nbconvert_exporter": "python",
   "pygments_lexer": "ipython3",
   "version": "3.11.8"
  }
 },
 "nbformat": 4,
 "nbformat_minor": 5
}
